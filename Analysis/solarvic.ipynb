{
 "cells": [
  {
   "cell_type": "code",
   "execution_count": 3,
   "id": "00f48ff4",
   "metadata": {},
   "outputs": [
    {
     "name": "stdout",
     "output_type": "stream",
     "text": [
      "CSV file 'solarhobart.csv' generated successfully.\n"
     ]
    }
   ],
   "source": [
    "import pandas as pd\n",
    "import requests\n",
    "\n",
    "# Read the input CSV file\n",
    "input_filename = 'Solar_Data.csv'\n",
    "df = pd.read_csv(input_filename)\n",
    "\n",
    "# Google Maps API key (replace with your actual API key)\n",
    "google_api_key = 'AIzaSyDJnDQqBJ*******VVWiksRnZYSpPCrU'\n",
    "\n",
    "# Function to get coordinates from postcode using Google Maps Geocoding API\n",
    "def get_coordinates_google(postcode):\n",
    "    base_url = \"https://maps.googleapis.com/maps/api/geocode/json\"\n",
    "    params = {\n",
    "        'address': str(postcode) + ', Australia',\n",
    "        'key': google_api_key\n",
    "    }\n",
    "    response = requests.get(base_url, params=params)\n",
    "    data = response.json()\n",
    "    if data['status'] == 'OK':\n",
    "        location = data['results'][0]['geometry']['location']\n",
    "        return location['lat'], location['lng']\n",
    "    else:\n",
    "        return None, None\n",
    "\n",
    "# Apply the function to the 'postcode' column and create new 'latitude' and 'longitude' columns\n",
    "df['latitude'], df['longitude'] = zip(*df['postcode'].apply(get_coordinates_google))\n",
    "\n",
    "# Drop rows with missing coordinates\n",
    "df = df.dropna(subset=['latitude', 'longitude'])\n",
    "\n",
    "# Specify the output CSV filename\n",
    "output_filename = 'solarhobart.csv'\n",
    "\n",
    "# Write the updated DataFrame to a new CSV file\n",
    "df.to_csv(output_filename, index=False)\n",
    "\n",
    "print(f\"CSV file '{output_filename}' generated successfully.\")\n"
   ]
  },
  {
   "cell_type": "code",
   "execution_count": null,
   "id": "25c5eae5",
   "metadata": {},
   "outputs": [],
   "source": [
    "!pip install geopy"
   ]
  }
 ],
 "metadata": {
  "kernelspec": {
   "display_name": "Python 3",
   "language": "python",
   "name": "python3"
  },
  "language_info": {
   "codemirror_mode": {
    "name": "ipython",
    "version": 3
   },
   "file_extension": ".py",
   "mimetype": "text/x-python",
   "name": "python",
   "nbconvert_exporter": "python",
   "pygments_lexer": "ipython3",
   "version": "3.8.8"
  }
 },
 "nbformat": 4,
 "nbformat_minor": 5
}
